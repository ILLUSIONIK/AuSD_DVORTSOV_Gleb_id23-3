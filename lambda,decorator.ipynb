{
 "cells": [
  {
   "cell_type": "markdown",
   "id": "f1c618e6",
   "metadata": {},
   "source": [
    "10.\n",
    "\n",
    "а) Вывести ряд Фибоначчи до n чисел, используя лямбда-функцию.\n",
    "\n",
    "б) Найти следующее после заданного число, полученное перестановкой цифр заданного числа. Примеры: 12 → 21, 10 → False, 201 → 210, 102 → 120, 445 → 454.\n",
    "\n",
    "в) Напишите программу для поиска элементов заданного списка строк, содержащих определённую подстроку, используя лямбда-функцию. Пример: ['red', 'black', 'white', 'green', 'orange']; ack → ['black']; abc → []."
   ]
  },
  {
   "cell_type": "code",
   "execution_count": 48,
   "id": "4d188993",
   "metadata": {},
   "outputs": [
    {
     "data": {
      "text/plain": [
       "3"
      ]
     },
     "execution_count": 48,
     "metadata": {},
     "output_type": "execute_result"
    }
   ],
   "source": [
    "#a\n",
    "from math import sqrt\n",
    "a = lambda n: (1/sqrt(5)) * (((1+sqrt(5))/2)**n - ((1-sqrt(5))/2)**n)\n",
    "round(a(4))\n"
   ]
  },
  {
   "cell_type": "code",
   "execution_count": 67,
   "id": "1ecb2308",
   "metadata": {},
   "outputs": [
    {
     "name": "stdout",
     "output_type": "stream",
     "text": [
      "102\n",
      "120\n"
     ]
    }
   ],
   "source": [
    "#b\n",
    "a = input()\n",
    "x = lambda n: n[0:-2] + n[-1] + n[-2]\n",
    "if a[-1] == '0' and len(a) == 2:\n",
    "    print(False)\n",
    "else:\n",
    "    print(x(a))\n"
   ]
  },
  {
   "cell_type": "code",
   "execution_count": 68,
   "id": "a7a55314",
   "metadata": {},
   "outputs": [
    {
     "data": {
      "text/plain": [
       "['black']"
      ]
     },
     "execution_count": 68,
     "metadata": {},
     "output_type": "execute_result"
    }
   ],
   "source": [
    "#c\n",
    "x = lambda l, f: list(filter(lambda x: f in x, l))\n",
    "x(['red', 'black', 'white', 'green', 'orange'], 'ack')"
   ]
  },
  {
   "cell_type": "code",
   "execution_count": 69,
   "id": "7741af0e",
   "metadata": {},
   "outputs": [
    {
     "data": {
      "text/plain": [
       "[]"
      ]
     },
     "execution_count": 69,
     "metadata": {},
     "output_type": "execute_result"
    }
   ],
   "source": [
    "x(['red', 'black', 'white', 'green', 'orange'], 'abc')"
   ]
  },
  {
   "cell_type": "markdown",
   "id": "213c25fa",
   "metadata": {},
   "source": [
    "10\n",
    "\n",
    "а) Преобразуйте заданный список кортежей в список строк с помощью функции map(). Пример: [('red', 'pink'), ('white', 'black'), ('orange', 'green')] → ['red pink', 'white black', 'orange green']; [('Sheridan', 'Gentry'); ('Laila', 'Mckee'), ('Ahsan', 'Rivas'), ('Conna', 'Gonzalez')] → ['Sheridan Gentry', 'Laila Mckee', 'Ahsan Rivas', 'Conna Gonzalez'].\n",
    "\n",
    "\n",
    "б) Сгенерировать список целых чисел. С помощью функции filter() выбрать из списка все числа кратные 3 и упорядочить их по возрастанию. Используя функцию reduce(), найти их произведение."
   ]
  },
  {
   "cell_type": "code",
   "execution_count": 100,
   "id": "f109306d",
   "metadata": {},
   "outputs": [
    {
     "name": "stdout",
     "output_type": "stream",
     "text": [
      "['red pink', 'white black', 'orange green']\n"
     ]
    },
    {
     "data": {
      "text/plain": [
       "['Sheridan Gentry', 'Laila Mckee', 'Ahsan Rivas', 'Conna Gonzalez']"
      ]
     },
     "execution_count": 100,
     "metadata": {},
     "output_type": "execute_result"
    }
   ],
   "source": [
    "#a\n",
    "print(list(map(lambda x: ' '.join(x), [('red', 'pink'), ('white', 'black'), ('orange', 'green')])))\n",
    "list(map(lambda x: ' '.join(x),  [('Sheridan', 'Gentry'), ('Laila', 'Mckee'), ('Ahsan', 'Rivas'), ('Conna', 'Gonzalez')]))"
   ]
  },
  {
   "cell_type": "code",
   "execution_count": 104,
   "id": "e5ab5ede",
   "metadata": {},
   "outputs": [
    {
     "name": "stdout",
     "output_type": "stream",
     "text": [
      "[3, 6, 9]\n"
     ]
    },
    {
     "data": {
      "text/plain": [
       "162"
      ]
     },
     "execution_count": 104,
     "metadata": {},
     "output_type": "execute_result"
    }
   ],
   "source": [
    "#b\n",
    "from functools import reduce\n",
    "\n",
    "print(sorted(filter(lambda x: x % 3 == 0, [x for x in range(1, 10)])))\n",
    "\n",
    "reduce(lambda x, y: x * y, sorted(filter(lambda x: x % 3 == 0, [x for x in range(1, 10)])))\n",
    "\n"
   ]
  },
  {
   "cell_type": "markdown",
   "id": "d67f907a",
   "metadata": {},
   "source": [
    "10\n",
    "\n",
    "а) Создайте декоратор, который будет проверять возвращаемое значение функции на корректность и заменять его на предопределенное значение при обнаружении некорректных данных.\n",
    "\n",
    "б) Создайте декоратор, который будет заменять значение аргумента на заданное значение только если оно удовлетворяет определенному условию."
   ]
  },
  {
   "cell_type": "code",
   "execution_count": 135,
   "id": "da616adb",
   "metadata": {},
   "outputs": [
    {
     "name": "stdout",
     "output_type": "stream",
     "text": [
      "10\n"
     ]
    }
   ],
   "source": [
    "#a\n",
    "def check_return_value():\n",
    "    def decorator(func):\n",
    "        def wrapper(*args, **kwargs):\n",
    "            result = func(*args, **kwargs)\n",
    "            if result is None or result == '':\n",
    "                raise 'Ошибка'\n",
    "            else:\n",
    "                return result\n",
    "        return wrapper\n",
    "    return decorator\n",
    "@check_return_value()\n",
    "def get_value(a=10):\n",
    "    return 10\n",
    "\n",
    "value = get_value(10)\n",
    "print(value)"
   ]
  },
  {
   "cell_type": "code",
   "execution_count": 134,
   "id": "2072845a",
   "metadata": {},
   "outputs": [
    {
     "ename": "TypeError",
     "evalue": "exceptions must derive from BaseException",
     "output_type": "error",
     "traceback": [
      "\u001b[1;31m---------------------------------------------------------------------------\u001b[0m",
      "\u001b[1;31mTypeError\u001b[0m                                 Traceback (most recent call last)",
      "Cell \u001b[1;32mIn[134], line 5\u001b[0m\n\u001b[0;32m      1\u001b[0m \u001b[38;5;129m@check_return_value\u001b[39m()\n\u001b[0;32m      2\u001b[0m \u001b[38;5;28;01mdef\u001b[39;00m \u001b[38;5;21mget_value\u001b[39m():\n\u001b[0;32m      3\u001b[0m     \u001b[38;5;28;01mpass\u001b[39;00m\n\u001b[1;32m----> 5\u001b[0m value \u001b[38;5;241m=\u001b[39m get_value()\n\u001b[0;32m      6\u001b[0m \u001b[38;5;28mprint\u001b[39m( value)\n",
      "Cell \u001b[1;32mIn[130], line 7\u001b[0m, in \u001b[0;36mcheck_return_value.<locals>.decorator.<locals>.wrapper\u001b[1;34m(*args, **kwargs)\u001b[0m\n\u001b[0;32m      5\u001b[0m result \u001b[38;5;241m=\u001b[39m func(\u001b[38;5;241m*\u001b[39margs, \u001b[38;5;241m*\u001b[39m\u001b[38;5;241m*\u001b[39mkwargs)\n\u001b[0;32m      6\u001b[0m \u001b[38;5;28;01mif\u001b[39;00m result \u001b[38;5;129;01mis\u001b[39;00m \u001b[38;5;28;01mNone\u001b[39;00m \u001b[38;5;129;01mor\u001b[39;00m result \u001b[38;5;241m==\u001b[39m \u001b[38;5;124m'\u001b[39m\u001b[38;5;124m'\u001b[39m:\n\u001b[1;32m----> 7\u001b[0m     \u001b[38;5;28;01mraise\u001b[39;00m \u001b[38;5;124m'\u001b[39m\u001b[38;5;124mОшибка\u001b[39m\u001b[38;5;124m'\u001b[39m\n\u001b[0;32m      8\u001b[0m \u001b[38;5;28;01melse\u001b[39;00m:\n\u001b[0;32m      9\u001b[0m     \u001b[38;5;28;01mreturn\u001b[39;00m result\n",
      "\u001b[1;31mTypeError\u001b[0m: exceptions must derive from BaseException"
     ]
    }
   ],
   "source": [
    "@check_return_value()\n",
    "def get_value():\n",
    "    pass\n",
    "\n",
    "value = get_value()\n",
    "print( value)"
   ]
  },
  {
   "cell_type": "code",
   "execution_count": 1,
   "id": "4832c80b",
   "metadata": {},
   "outputs": [],
   "source": [
    "#B\n",
    "def conditional_decorator(condition, replacement_value):\n",
    "    def decorator(func):\n",
    "        def wrapper(*args, **kwargs):\n",
    "            if condition(args[0]):  # Проверяем первое позиционное значение\n",
    "                args = list(args)  # Делаем копию списка аргументов\n",
    "                args[0] = replacement_value  # Заменяем значение\n",
    "            return func(*args, **kwargs)\n",
    "        return wrapper\n",
    "    return decorator"
   ]
  },
  {
   "cell_type": "code",
   "execution_count": 7,
   "id": "fcb3cbeb",
   "metadata": {},
   "outputs": [
    {
     "name": "stdout",
     "output_type": "stream",
     "text": [
      "0\n",
      "4\n"
     ]
    }
   ],
   "source": [
    "def is_positive(x):\n",
    "    return x < 0\n",
    "\n",
    "@conditional_decorator(is_positive, 0)\n",
    "def square(x):\n",
    "    return x * x\n",
    "\n",
    "print(square(-1))  \n",
    "print(square(2))  \n"
   ]
  },
  {
   "cell_type": "code",
   "execution_count": null,
   "id": "339e5e0d",
   "metadata": {},
   "outputs": [],
   "source": []
  }
 ],
 "metadata": {
  "kernelspec": {
   "display_name": "Python 3 (ipykernel)",
   "language": "python",
   "name": "python3"
  },
  "language_info": {
   "codemirror_mode": {
    "name": "ipython",
    "version": 3
   },
   "file_extension": ".py",
   "mimetype": "text/x-python",
   "name": "python",
   "nbconvert_exporter": "python",
   "pygments_lexer": "ipython3",
   "version": "3.11.5"
  }
 },
 "nbformat": 4,
 "nbformat_minor": 5
}
