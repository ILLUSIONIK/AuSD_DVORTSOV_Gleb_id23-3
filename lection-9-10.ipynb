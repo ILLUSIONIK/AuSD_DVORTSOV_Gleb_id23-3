{
 "cells": [
  {
   "cell_type": "markdown",
   "id": "455e80b2",
   "metadata": {},
   "source": [
    "1. Класс – комплексное число. Методы – сумма, разность, произведение комплексных чисел. Поля – действительная и мнимая часть комплексного числа."
   ]
  },
  {
   "cell_type": "code",
   "execution_count": 1,
   "id": "fb6850d4",
   "metadata": {},
   "outputs": [
    {
     "name": "stdout",
     "output_type": "stream",
     "text": [
      "3 8\n",
      "-1 -2\n",
      "-13 11\n"
     ]
    }
   ],
   "source": [
    "class complex_number(object):\n",
    "    def __init__(self, real = 0, imaginary = 0):\n",
    "        self.real = real\n",
    "        self.imaginary = imaginary\n",
    "    def __add__(self, x):\n",
    "        return complex_number(self.real + x.real, self.imaginary + x.imaginary)\n",
    "    def __sub__(self, x):\n",
    "        return complex_number(self.real - x.real, self.imaginary - x.imaginary)\n",
    "    def __mul__(self, x):\n",
    "        return complex_number(self.real*x.real - self.imaginary*x.imaginary, self.real*x.imaginary + self.imaginary*x.real)\n",
    "c1 = complex_number(1, 3)\n",
    "c2 = complex_number(2, 5)\n",
    "print((c1 + c2).real, (c1 + c2).imaginary)  \n",
    "print((c1 - c2).real, (c1 - c2).imaginary)\n",
    "print((c1 * c2).real, (c1 * c2).imaginary)"
   ]
  },
  {
   "cell_type": "markdown",
   "id": "90d4f08f",
   "metadata": {},
   "source": [
    "2. Класс – десятичная дробь. Методы класса – сумма, разность, произведение, частное десятичных дробей. Поля класса – целая и дробная часть числа."
   ]
  },
  {
   "cell_type": "code",
   "execution_count": 2,
   "id": "f7cba387",
   "metadata": {},
   "outputs": [
    {
     "name": "stdout",
     "output_type": "stream",
     "text": [
      "4 0.71\n",
      "-1 -0.09\n",
      "5 0.339\n"
     ]
    }
   ],
   "source": [
    "class decimal_number(object):\n",
    "    def __init__(self, integer, fraction):\n",
    "        self.integer = integer\n",
    "        self.fraction = fraction\n",
    "    def __add__(self, other):\n",
    "        return decimal_number(self.integer + other.integer + (1 if self.fraction + other.fraction >= 1 else 0), \n",
    "                              self.fraction + other.fraction - (1 if self.fraction + other.fraction >= 1 else 0))\n",
    "    def __sub__(self, other):\n",
    "        return decimal_number(self.integer - other.integer - (1 if  self.fraction - other.fraction<= 0 else 0),\n",
    "                              (self.fraction - other.fraction + (1 if  self.fraction - other.fraction <= 0 else 0))\n",
    "                              * (-1 if self.integer - other.integer - (1 if  self.fraction - other.fraction<= 0 else 0) < 0 else 1))\n",
    "    def __mul__(self, other):\n",
    "        ans = str(self.integer * other.integer + self.integer*other.fraction + other.integer*self.fraction + self.fraction * other.fraction).split('.')\n",
    "        return decimal_number(int(ans[0]), float('0.'+ans[1]) * (-1 if int(ans[0]) < 0 else 1))\n",
    "c1 = decimal_number(1, 0.9)\n",
    "c2 = decimal_number(2, 0.81)\n",
    "c3 = c1 + c2\n",
    "print(c3.integer, \"%.2f\" % c3.fraction)\n",
    "c3 = c1 - c2\n",
    "print(c3.integer, \"%.2f\" % c3.fraction)\n",
    "c3 = c1*c2\n",
    "print(c3.integer, \"%.3f\" % c3.fraction)"
   ]
  },
  {
   "cell_type": "markdown",
   "id": "4efe50bf",
   "metadata": {},
   "source": [
    "3. Класс – натуральная дробь. Методы класса – сумма, разность, произведение, частное натуральных дробей. Поля класса – числитель и знаменатель дроби."
   ]
  },
  {
   "cell_type": "code",
   "execution_count": 6,
   "id": "ff44fc50",
   "metadata": {},
   "outputs": [
    {
     "name": "stdout",
     "output_type": "stream",
     "text": [
      "10 / 8\n",
      "-2 / 8\n",
      "3 / 8\n",
      "4 / 6\n"
     ]
    }
   ],
   "source": [
    "class natural_fraction(object):\n",
    "    def __init__(self, numerator, denominator):\n",
    "        self.numerator = numerator\n",
    "        self.denominator = denominator\n",
    "\n",
    "    def __add__(self, other):\n",
    "        result_numerator = self.numerator * other.denominator + other.numerator * self.denominator\n",
    "        result_denominator = self.denominator * other.denominator\n",
    "        return natural_fraction(result_numerator, result_denominator)\n",
    "\n",
    "    def __sub__(self, other):\n",
    "        result_numerator = self.numerator * other.denominator - other.numerator * self.denominator\n",
    "        result_denominator = self.denominator * other.denominator\n",
    "        return natural_fraction(result_numerator, result_denominator)\n",
    "\n",
    "    def __mul__(self, other):\n",
    "        result_numerator = self.numerator * other.numerator\n",
    "        result_denominator = self.denominator * other.denominator\n",
    "        return natural_fraction(result_numerator, result_denominator)\n",
    "\n",
    "    def __truediv__(self, other):\n",
    "        result_numerator = self.numerator * other.denominator\n",
    "        result_denominator = self.denominator * other.numerator\n",
    "        return natural_fraction(result_numerator, result_denominator)\n",
    "\n",
    "f1 = natural_fraction(1, 2)\n",
    "f2 = natural_fraction(3, 4)\n",
    "\n",
    "print((f1 + f2).numerator, \"/\", (f1 + f2).denominator) \n",
    "print((f1 - f2).numerator, \"/\", (f1 - f2).denominator) \n",
    "print((f1 * f2).numerator, \"/\", (f1 * f2).denominator) \n",
    "print((f1 / f2).numerator, \"/\", (f1 / f2).denominator) "
   ]
  },
  {
   "cell_type": "markdown",
   "id": "075c40a2",
   "metadata": {},
   "source": [
    "4. Класс – строка символов. Методы класса – расчет длины строки и коли-чества слов. Поля класса – строка, длина строки, кол–во слов в строке.\n"
   ]
  },
  {
   "cell_type": "code",
   "execution_count": 7,
   "id": "854308b2",
   "metadata": {},
   "outputs": [
    {
     "name": "stdout",
     "output_type": "stream",
     "text": [
      "15\n",
      "3\n"
     ]
    }
   ],
   "source": [
    "class StringAnalyzer(object):\n",
    "    def __init__(self, string):\n",
    "        self.string = string\n",
    "        self.length = len(string)\n",
    "        self.word_count = len(string.split())\n",
    "\n",
    "    def calculate_length(self):\n",
    "        self.length = len(self.string)\n",
    "        return self.length\n",
    "\n",
    "    def calculate_word_count(self):\n",
    "        self.word_count = len(self.string.split())\n",
    "        return self.word_count\n",
    "\n",
    "\n",
    "s = \"привет как дела\"\n",
    "string_analyzer = StringAnalyzer(s)\n",
    "\n",
    "print(string_analyzer.length) \n",
    "print(string_analyzer.word_count) \n"
   ]
  },
  {
   "cell_type": "markdown",
   "id": "35071cd2",
   "metadata": {},
   "source": [
    "5. Класс – отрезок. Методы – расчет середины и длины. Поля класса – координаты начала, конца, середины и длина."
   ]
  },
  {
   "cell_type": "code",
   "execution_count": 11,
   "id": "f20a250a",
   "metadata": {},
   "outputs": [
    {
     "name": "stdout",
     "output_type": "stream",
     "text": [
      "5\n",
      "3.5\n"
     ]
    }
   ],
   "source": [
    "class segment(object):\n",
    "    def __init__(self, x, y, leng = None, center = None):\n",
    "        self.x = x\n",
    "        self.y = y\n",
    "        self.leng = leng\n",
    "        self.center = center\n",
    "    def find_leng(self):\n",
    "        self.leng = self.y-self.x\n",
    "        return self.leng\n",
    "    def find_center(self):\n",
    "        self.center = self.leng / 2 + self.x\n",
    "        return self.center\n",
    "a = segment(1, 6)\n",
    "print(a.find_leng())\n",
    "print(a.find_center())\n"
   ]
  },
  {
   "cell_type": "markdown",
   "id": "2f02cf56",
   "metadata": {},
   "source": [
    "10. Класс – параллелепипед. Методы – расчет площади поверхности и объема параллелепипеда. Поля – ребра  a ,  b ,  c , площадь и объем."
   ]
  },
  {
   "cell_type": "code",
   "execution_count": 13,
   "id": "dfff86d9",
   "metadata": {},
   "outputs": [
    {
     "name": "stdout",
     "output_type": "stream",
     "text": [
      "Площадь поверхности: 94\n",
      "Объем параллелепипеда: 60\n"
     ]
    }
   ],
   "source": [
    "class Parallelepiped(object):\n",
    "    def __init__(self, a, b, c):\n",
    "        self.a = a\n",
    "        self.b = b\n",
    "        self.c = c\n",
    "        self.surface_area = self.calculate_surface_area()\n",
    "        self.volume = self.calculate_volume()\n",
    "\n",
    "    def calculate_surface_area(self):\n",
    "        return 2 * (self.a * self.b + self.b * self.c + self.a * self.c)\n",
    "\n",
    "    def calculate_volume(self):\n",
    "        return self.a * self.b * self.c\n",
    "\n",
    "p = Parallelepiped(3, 4, 5)\n",
    "\n",
    "print(\"Площадь поверхности:\", p.surface_area)\n",
    "print(\"Объем параллелепипеда:\", p.volume)\n"
   ]
  },
  {
   "cell_type": "markdown",
   "id": "9e4b2d53",
   "metadata": {},
   "source": [
    "10. Опишите класс Account. Для банковского счета задаются фамилия владельца, номер счёта, процент начисления за год и сумма в рублях. Включите в описание класса методы: пополнения счёта, снятия денег со счёта, перевода суммы в доллары и в евро, а также свойство, позволяющее начислить процент за заданное количество месяцев."
   ]
  },
  {
   "cell_type": "code",
   "execution_count": 14,
   "id": "b5e1fed4",
   "metadata": {},
   "outputs": [
    {
     "name": "stdout",
     "output_type": "stream",
     "text": [
      "11000\n",
      "10000\n",
      "Не хватает средств\n",
      "остаток на счету: 10000\n",
      "108.69565217391305\n",
      "100.0\n",
      "11500.0\n"
     ]
    }
   ],
   "source": [
    "class Account(object):\n",
    "    def __init__(self, name, number, percent, rubles):\n",
    "        self.name = name\n",
    "        self.number = number\n",
    "        self.percent = percent\n",
    "        self.rubles = rubles\n",
    "        self.dollars = self.transfer_to_dollar()\n",
    "        self.euro = self.transfer_to_euro()\n",
    "    def refil(self, x):\n",
    "        self.rubles += x\n",
    "    def from_account(self, x):\n",
    "        if self.rubles - x > 0:\n",
    "            self.rubles -= x\n",
    "        else:\n",
    "            print('Не хватает средств')\n",
    "            print(f'остаток на счету: {self.rubles}')\n",
    "    def transfer_to_dollar(self):\n",
    "        return self.rubles/92\n",
    "    def transfer_to_euro(self):\n",
    "        return self.rubles/100\n",
    "    def pecent_for(self, n):\n",
    "        for _ in range(n):\n",
    "            self.rubles += self.rubles * self.percent/100\n",
    "\n",
    "\n",
    "X = Account('Petya', 12345, 15, 10000)\n",
    "X.refil(1000)\n",
    "print(X.rubles)\n",
    "X.from_account(1000)\n",
    "print(X.rubles)\n",
    "X.from_account(100000)\n",
    "print(X.transfer_to_dollar())\n",
    "print(X.transfer_to_euro())\n",
    "X.pecent_for(1)\n",
    "print(X.rubles)"
   ]
  },
  {
   "cell_type": "markdown",
   "id": "a134aabc",
   "metadata": {},
   "source": [
    "Создайте класс ИГРУШКА с методами, позволяющими вывести на экран информацию о товаре, а также определить соответствие игрушки критерию поиска. Создайте дочерние классы КУБИК (цвет, цена, материал, размер ребра), МЯЧ (цена, цвет, диаметр, материал), МАШИНКА (название, цена, производитель, цвет) со своими методами вывода информации на экран и определения соответствия заданному цвету. Создайте список из  n  игрушек, выведите полную информацию из базы на экран, а также организуйте поиск игрушек заданного цвета."
   ]
  },
  {
   "cell_type": "code",
   "execution_count": null,
   "id": "86bb793f",
   "metadata": {},
   "outputs": [],
   "source": [
    "class Toy(object):\n",
    "    def __init__(self, price, color, material):\n",
    "        self.price = price\n",
    "        self.color = color\n",
    "        self.material = material\n",
    "\n",
    "    def show_info(self):\n",
    "        print(\"Цена:\", self.price)\n",
    "        print(\"Цвет:\", self.color)\n",
    "        print(\"Материал:\", self.material)\n",
    "\n",
    "    def check_color(self, search_color):\n",
    "        return self.color.lower() == search_color.lower()\n",
    "\n",
    "\n",
    "class Cube(Toy):\n",
    "    def __init__(self, price, color, material, edge_length):\n",
    "        super().__init__(price, color, material)\n",
    "        self.edge_length = edge_length\n",
    "\n",
    "    def show_info(self):\n",
    "        print(\"Тип: Кубик\")\n",
    "        super().show_info()\n",
    "        print(\"Размер ребра:\", self.edge_length)\n",
    "\n",
    "class Ball(Toy):\n",
    "    def __init__(self, price, color, material, diameter):\n",
    "        super().__init__(price, color, material)\n",
    "        self.diameter = diameter\n",
    "\n",
    "    def show_info(self):\n",
    "        print(\"Тип: Мяч\")\n",
    "        super().show_info()\n",
    "        print(\"Диаметр:\", self.diameter)\n",
    "\n",
    "class Car(Toy):\n",
    "    def __init__(self, name, price, manufacturer, color):\n",
    "        super().__init__(price, color, \"Plastic\")\n",
    "        self.name = name\n",
    "        self.manufacturer = manufacturer\n",
    "\n",
    "    def show_info(self):\n",
    "        print(\"Тип: Машинка\")\n",
    "        print(\"Название:\", self.name)\n",
    "        print(\"Производитель:\", self.manufacturer)\n",
    "        super().show_info()\n",
    "\n",
    "# Создание списка игрушек\n",
    "toys = []\n",
    "toys.append(Cube(10, \"красный\", \"пластик\", 5))\n",
    "toys.append(Ball(5, \"синий\", \"резина\", 10))\n",
    "toys.append(Car(\"BMW\", 20, \"Hot Wheels\", \"черный\"))\n",
    "toys.append(Cube(15, \"синий\", \"дерево\", 7))\n",
    "\n",
    "# Вывод полной информации о каждой игрушке\n",
    "for toy in toys:\n",
    "    toy.show_info()\n",
    "    print()\n",
    "\n",
    "# Поиск игрушек заданного цвета\n",
    "search_color = \"синий\"\n",
    "print(f\"Игрушки цвета {search_color}:\")\n",
    "for toy in toys:\n",
    "    if toy.check_color(search_color):\n",
    "        print(f\"Тип: {type(toy).__name__}, Цена: {toy.price}\")\n"
   ]
  }
 ],
 "metadata": {
  "kernelspec": {
   "display_name": "Python 3 (ipykernel)",
   "language": "python",
   "name": "python3"
  },
  "language_info": {
   "codemirror_mode": {
    "name": "ipython",
    "version": 3
   },
   "file_extension": ".py",
   "mimetype": "text/x-python",
   "name": "python",
   "nbconvert_exporter": "python",
   "pygments_lexer": "ipython3",
   "version": "3.11.5"
  }
 },
 "nbformat": 4,
 "nbformat_minor": 5
}
