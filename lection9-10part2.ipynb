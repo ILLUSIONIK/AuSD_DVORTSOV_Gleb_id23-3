{
 "cells": [
  {
   "cell_type": "markdown",
   "id": "2d92ca99",
   "metadata": {},
   "source": [
    "11. Класс – целочисленный вектор фиксированной размерности. Методы – сумма, разность, скалярное произведение векторов. Поля – размерность вектора, координаты вектора."
   ]
  },
  {
   "cell_type": "code",
   "execution_count": 3,
   "id": "11d6a8c7",
   "metadata": {},
   "outputs": [
    {
     "name": "stdout",
     "output_type": "stream",
     "text": [
      "[5, 7, 9]\n",
      "[-3, -3, -3]\n",
      "32\n"
     ]
    }
   ],
   "source": [
    "class Vector(object):\n",
    "    def __init__(self, coordinates):\n",
    "        self.coordinates = coordinates\n",
    "        self.dimension = len(coordinates)\n",
    "\n",
    "    def add(self, other_vector):\n",
    "        if self.dimension != other_vector.dimension:\n",
    "            raise ValueError(\"Vectors must have the same dimension\")\n",
    "        new_coordinates = [x + y for x, y in zip(self.coordinates, other_vector.coordinates)]\n",
    "        return Vector(new_coordinates)\n",
    "\n",
    "    def subtract(self, other_vector):\n",
    "        if self.dimension != other_vector.dimension:\n",
    "            raise ValueError(\"Vectors must have the same dimension\")\n",
    "        new_coordinates = [x - y for x, y in zip(self.coordinates, other_vector.coordinates)]\n",
    "        return Vector(new_coordinates)\n",
    "\n",
    "    def dot_product(self, other_vector):\n",
    "        if self.dimension != other_vector.dimension:\n",
    "            raise ValueError(\"Vectors must have the same dimension\")\n",
    "        return sum(x * y for x, y in zip(self.coordinates, other_vector.coordinates))\n",
    "\n",
    "\n",
    "\n",
    "vector1 = Vector([1, 2, 3])\n",
    "vector2 = Vector([4, 5, 6])\n",
    "\n",
    "print(vector1.add(vector2).coordinates)  # Сложение векторов\n",
    "print(vector1.subtract(vector2).coordinates)  # Разность векторов\n",
    "print(vector1.dot_product(vector2))  # Скалярное произведение векторов"
   ]
  },
  {
   "cell_type": "markdown",
   "id": "389b8379",
   "metadata": {},
   "source": [
    "11. Опишите класс Date, заданный тремя атрибутами для года, месяца и дня. Включите в описание класса методы, позволяющие вычислить дату следующего дня, определить, сколько дней осталось до конца месяца, и свойство, позволяющее выяснить, является ли год високосным."
   ]
  },
  {
   "cell_type": "code",
   "execution_count": 4,
   "id": "8a4485e1",
   "metadata": {},
   "outputs": [
    {
     "name": "stdout",
     "output_type": "stream",
     "text": [
      "False\n",
      "2022 3 1\n",
      "30\n"
     ]
    }
   ],
   "source": [
    "class Date(object):\n",
    "    def __init__(self, year, month, day):\n",
    "        self.year = year\n",
    "        self.month = month\n",
    "        self.day = day\n",
    "\n",
    "    def is_leap_year(self):\n",
    "        if (self.year % 4 == 0 and self.year % 100 != 0) or self.year % 400 == 0:\n",
    "            return True\n",
    "        else:\n",
    "            return False\n",
    "\n",
    "    def next_day(self):\n",
    "        if self.day < 28:\n",
    "            self.day += 1\n",
    "        elif self.day == 28 and self.month == 2:\n",
    "            if self.is_leap_year():\n",
    "                self.day += 1\n",
    "            else:\n",
    "                self.day = 1\n",
    "                self.month += 1\n",
    "        elif self.day == 29 and self.month == 2:\n",
    "            self.day = 1\n",
    "            self.month += 1\n",
    "        elif self.day == 30 and (self.month == 4 or self.month == 6 or self.month == 9 or self.month == 11):\n",
    "            self.day = 1\n",
    "            self.month += 1\n",
    "        elif self.day == 31 and (self.month == 1 or self.month == 3 or self.month == 5 or self.month == 7 or self.month == 8 or self.month == 10):\n",
    "            self.day = 1\n",
    "            if self.month == 12:\n",
    "                self.month = 1\n",
    "                self.year += 1\n",
    "            else:\n",
    "                self.month += 1\n",
    "\n",
    "    def days_until_end_of_month(self):\n",
    "        days_in_month = [31, 28, 31, 30, 31, 30, 31, 31, 30, 31, 30, 31]\n",
    "        if self.is_leap_year() and self.month == 2:\n",
    "            return 29 - self.day\n",
    "        else:\n",
    "            return days_in_month[self.month - 1] - self.day\n",
    "date1 = Date(2022, 2, 28)\n",
    "print(date1.is_leap_year())  # Проверка, является ли год високосным\n",
    "date1.next_day()  # Вычисление следующего дня\n",
    "print(date1.year, date1.month, date1.day)\n",
    "print(date1.days_until_end_of_month())  # Вычисление оставшихся дней до конца месяца"
   ]
  },
  {
   "cell_type": "markdown",
   "id": "a45b81e2",
   "metadata": {},
   "source": [
    "11. Создайте класс ТЕЛО с методами вычисления площади поверхности и объема, а также методом, выводящим информацию о фигуре на экран. Создайте дочерние классы ПАРАЛЛЕЛЕПИПЕД, ШАР, ПИРАМИДА со своими методами вычисления площади и объема. Создайте список  n  фигур и выведите полную информацию о фигурах на экран."
   ]
  },
  {
   "cell_type": "code",
   "execution_count": 2,
   "id": "e4b3314c",
   "metadata": {},
   "outputs": [
    {
     "name": "stdout",
     "output_type": "stream",
     "text": [
      "Parallelepiped - Width: 3, Height: 4, Depth: 5\n",
      "Surface Area: 94\n",
      "Volume: 60\n",
      "Sphere - Radius: 2\n",
      "Surface Area: 50.26548245743669\n",
      "Volume: 33.510321638291124\n",
      "Pyramid - Base Length: 6, Base Width: 8, Height: 10\n",
      "Surface Area: 177.24395537122808\n",
      "Volume: 160.0\n"
     ]
    }
   ],
   "source": [
    "import math\n",
    "class Body:\n",
    "    def calculate_surface_area(self):\n",
    "        pass\n",
    "\n",
    "    def calculate_volume(self):\n",
    "        pass\n",
    "\n",
    "    def display_info(self):\n",
    "        pass\n",
    "\n",
    "class Parallelepiped(Body):\n",
    "    def __init__(self, width, height, depth):\n",
    "        self.width = width\n",
    "        self.height = height\n",
    "        self.depth = depth\n",
    "\n",
    "    def calculate_surface_area(self):\n",
    "        return 2 * (self.width * self.height + self.height * self.depth + self.width * self.depth)\n",
    "\n",
    "    def calculate_volume(self):\n",
    "        return self.width * self.height * self.depth\n",
    "\n",
    "    def display_info(self):\n",
    "        print(f'Parallelepiped - Width: {self.width}, Height: {self.height}, Depth: {self.depth}')\n",
    "\n",
    "class Sphere(Body):\n",
    "    def __init__(self, radius):\n",
    "        self.radius = radius\n",
    "\n",
    "    def calculate_surface_area(self):\n",
    "        return 4 * math.pi * (self.radius ** 2)\n",
    "\n",
    "    def calculate_volume(self):\n",
    "        return (4 / 3) * math.pi * (self.radius ** 3)\n",
    "\n",
    "    def display_info(self):\n",
    "        print(f'Sphere - Radius: {self.radius}')\n",
    "\n",
    "class Pyramid(Body):\n",
    "    def __init__(self, base_length, base_width, height):\n",
    "        self.base_length = base_length\n",
    "        self.base_width = base_width\n",
    "        self.height = height\n",
    "\n",
    "    def calculate_surface_area(self):\n",
    "        base_area = self.base_length * self.base_width\n",
    "        side_area = self.base_length * math.sqrt((self.base_width / 2) ** 2 + self.height ** 2)\n",
    "        return base_area + 2 * side_area\n",
    "\n",
    "    def calculate_volume(self):\n",
    "        return (1 / 3) * self.base_length * self.base_width * self.height\n",
    "\n",
    "    def display_info(self):\n",
    "        print(f'Pyramid - Base Length: {self.base_length}, Base Width: {self.base_width}, Height: {self.height}')\n",
    "\n",
    "# Создание списка фигур\n",
    "figures = [\n",
    "    Parallelepiped(3, 4, 5),\n",
    "    Sphere(2),\n",
    "    Pyramid(6, 8, 10)\n",
    "]\n",
    "\n",
    "# Вывод информации о фигурах на экран\n",
    "for figure in figures:\n",
    "    figure.display_info()\n",
    "    print(f'Surface Area: {figure.calculate_surface_area()}')\n",
    "    print(f'Volume: {figure.calculate_volume()}')"
   ]
  },
  {
   "cell_type": "code",
   "execution_count": null,
   "id": "46a1faba",
   "metadata": {},
   "outputs": [],
   "source": []
  }
 ],
 "metadata": {
  "kernelspec": {
   "display_name": "Python 3 (ipykernel)",
   "language": "python",
   "name": "python3"
  },
  "language_info": {
   "codemirror_mode": {
    "name": "ipython",
    "version": 3
   },
   "file_extension": ".py",
   "mimetype": "text/x-python",
   "name": "python",
   "nbconvert_exporter": "python",
   "pygments_lexer": "ipython3",
   "version": "3.11.5"
  }
 },
 "nbformat": 4,
 "nbformat_minor": 5
}
