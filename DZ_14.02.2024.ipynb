{
 "cells": [
  {
   "cell_type": "markdown",
   "id": "d642e51b",
   "metadata": {},
   "source": [
    "Задача 1"
   ]
  },
  {
   "cell_type": "code",
   "execution_count": 1,
   "id": "c98b47d0",
   "metadata": {},
   "outputs": [
    {
     "name": "stdout",
     "output_type": "stream",
     "text": [
      "((dsasdas((das(d)das)d)asd)da)\n",
      "True\n"
     ]
    }
   ],
   "source": [
    "'''\n",
    "stack = []\n",
    "s = input()\n",
    "open_s = '('\n",
    "close_s = ')'\n",
    "checker = {')' : '('}\n",
    "flag = True\n",
    "for i in s:\n",
    "    if i in open_s:\n",
    "        stack.append(i)\n",
    "    if i in close_s:\n",
    "        if len(stack) == 0:\n",
    "            flag = False\n",
    "            break\n",
    "        if checker[i] != stack[-1] :\n",
    "            flag = False\n",
    "            break\n",
    "        stack.pop()\n",
    "if len(stack):\n",
    "    flag = False\n",
    "print(flag)\n",
    "'''"
   ]
  },
  {
   "cell_type": "code",
   "execution_count": 2,
   "id": "fa695617",
   "metadata": {},
   "outputs": [
    {
     "name": "stdout",
     "output_type": "stream",
     "text": [
      "(f(gfhd((hgfdg((fghh)dads)das))ds)adddads())))\n",
      "False\n"
     ]
    }
   ],
   "source": [
    "'''\n",
    "stack = []\n",
    "s = input()\n",
    "open_s = '('\n",
    "close_s = ')'\n",
    "checker = {')' : '('}\n",
    "flag = True\n",
    "for i in s:\n",
    "    if i in open_s:\n",
    "        stack.append(i)\n",
    "    if i in close_s:\n",
    "        if len(stack) == 0:\n",
    "            flag = False\n",
    "            break\n",
    "        if checker[i] != stack[-1] :\n",
    "            flag = False\n",
    "            break\n",
    "        stack.pop()\n",
    "if len(stack):\n",
    "    flag = False\n",
    "print(flag)\n",
    "'''"
   ]
  },
  {
   "cell_type": "markdown",
   "id": "0a07c448",
   "metadata": {},
   "source": [
    "2) С помощью списка (list) реализовать стек. При создании стека нужно передать максимальную длину стека. В случае попытки добавления элемента, приводящего к превышению емкости стека возвращать ошибку. \n",
    "Стек должен поддерживать следующие операции: \n",
    "S.push(e): добавление элемента e на вершину стека S. \n",
    "S.pop(): удаляет и возвращает верхний элемент стека S. Если стек пуст, то возникает ошибка. \n",
    "S.top(): возвращает верхний элемент стека S, не удаляя его. Если стек пуст, то возникает ошибка. \n",
    "S.is_empty( ): возвращает True если стек S не содержит ни одного элемента. \n",
    "len(S): возвращает текущеее количество элементов в стеке S. \n"
   ]
  },
  {
   "cell_type": "code",
   "execution_count": 3,
   "id": "63f71a61",
   "metadata": {},
   "outputs": [
    {
     "name": "stdout",
     "output_type": "stream",
     "text": [
      "[3]\n",
      "[3, 4]\n",
      "[3, 4, 5]\n",
      "5\n",
      "False\n",
      "4\n",
      "2\n"
     ]
    }
   ],
   "source": [
    "'''\n",
    "class stack(object):\n",
    "    def __init__(self, max_size):\n",
    "        self.stack = []\n",
    "        self.max_size = max_size\n",
    "    def push(self, e):\n",
    "        if len(self.stack) == self.max_size:\n",
    "            raise 'Ошибка, стек переполнен'\n",
    "        self.stack.append(e)\n",
    "        return self.stack\n",
    "    def pop(self):\n",
    "        if len(self.stack) == 0:\n",
    "            raise 'Ошибка'\n",
    "        return self.stack.pop()\n",
    "    def top(self):\n",
    "        if len(self.stack) == 0:\n",
    "            raise 'Ошибка'\n",
    "        return self.stack[-1]\n",
    "    def is_empty(self):\n",
    "        return len(self.stack) == 0\n",
    "    def len(self):\n",
    "        return len(self.stack)\n",
    "S = stack(3)\n",
    "print(S.push(3))\n",
    "print(S.push(4))\n",
    "print(S.push(5))\n",
    "print(S.pop())\n",
    "print(S.is_empty())\n",
    "print(S.top())\n",
    "print(S.len())\n",
    "'''"
   ]
  },
  {
   "cell_type": "markdown",
   "id": "fa8b6b90",
   "metadata": {},
   "source": [
    "3) Реализовать класс однонаправленного связанного списка.  \n",
    "\n",
    "3.1) Реализовать метод добавления элемента в начало списка.  \n"
   ]
  },
  {
   "cell_type": "code",
   "execution_count": 14,
   "id": "c55d64cc",
   "metadata": {},
   "outputs": [
    {
     "name": "stdout",
     "output_type": "stream",
     "text": [
      "12\n",
      "11\n",
      "10\n"
     ]
    }
   ],
   "source": [
    "'''\n",
    "class Node:\n",
    "    def __init__(self, element: int, next = None) -> None:\n",
    "        self.element = element\n",
    "        self.next = next\n",
    "class ListedList:\n",
    "    def __init__(self) -> None:\n",
    "        self.head = None\n",
    "    def append(self, element) -> None:\n",
    "        if not self.head:\n",
    "            self.head = Node(element)\n",
    "            return element\n",
    "        node = Node(element)\n",
    "        node.next = self.head\n",
    "        self.head = node\n",
    "    def output(self) -> None:\n",
    "        node = self.head\n",
    "        while node.next:\n",
    "            print(node.element)\n",
    "            node = node.next\n",
    "        print(node.element)\n",
    "ll = ListedList()\n",
    "ll.append(10)\n",
    "ll.append(11)\n",
    "ll.append(12)\n",
    "ll.output()\n",
    "\n",
    "'''"
   ]
  },
  {
   "cell_type": "markdown",
   "id": "aedf62be",
   "metadata": {},
   "source": [
    "4) На базе класса однонаправленного связанного списка реализовать двунаправленный связанный список.  \n",
    "\n",
    "4.1) Реализовать метод добавления элемента в начало списка.  \n"
   ]
  },
  {
   "cell_type": "code",
   "execution_count": 5,
   "id": "b144f0dc",
   "metadata": {},
   "outputs": [
    {
     "name": "stdout",
     "output_type": "stream",
     "text": [
      "7\n",
      "5\n",
      "3\n"
     ]
    }
   ],
   "source": [
    "'''\n",
    "class Node:\n",
    "    def __init__(self, element: int, next = None, prev = None) -> None:\n",
    "        self.prev = prev\n",
    "        self.next = next\n",
    "        self.element = element\n",
    "class LinkedList:\n",
    "    def __init__(self, head = None, tail = None) -> None:\n",
    "        self.head = head\n",
    "        self.tail = tail\n",
    "    def append(self, element : int) -> None:\n",
    "        node = Node(element)\n",
    "        if not self.head:\n",
    "            self.head = node\n",
    "            self.tail = node\n",
    "        else:\n",
    "            node.next = self.head\n",
    "            self.head.prev = node\n",
    "            self.head = node\n",
    "    def output(self) -> None:\n",
    "        node = self.head\n",
    "        while node.next:\n",
    "            print(node.element)\n",
    "            node = node.next\n",
    "        print(node.element)\n",
    "ll = LinkedList()\n",
    "ll.append(3)\n",
    "ll.append(5)\n",
    "ll.append(7)\n",
    "ll.output()\n",
    "'''"
   ]
  },
  {
   "cell_type": "code",
   "execution_count": 8,
   "id": "260e29ff",
   "metadata": {},
   "outputs": [
    {
     "name": "stdout",
     "output_type": "stream",
     "text": [
      "1\n",
      "2\n",
      "3\n"
     ]
    }
   ],
   "source": [
    "class Node:\n",
    "    def __init__(self, value):\n",
    "        self.value = value\n",
    "        self.next = None\n",
    "\n",
    "class LinkedList:\n",
    "    def __init__(self):\n",
    "        self.head = None\n",
    "        self.tail = None\n",
    "\n",
    "    def enqueue(self, value):\n",
    "        node = Node(value)\n",
    "        if self.tail:\n",
    "            self.tail.next = node\n",
    "            self.tail = node\n",
    "        else:\n",
    "            self.head = node\n",
    "            self.tail = node\n",
    "\n",
    "    def dequeue(self):\n",
    "        if self.head:\n",
    "            value = self.head.value\n",
    "            self.head = self.head.next\n",
    "            if self.head is None:\n",
    "                self.tail = None\n",
    "            return value\n",
    "        else:\n",
    "            raise IndexError(\"Queue is empty\")\n",
    "\n",
    "\n",
    "\n",
    "\n",
    "queue = LinkedList()\n",
    "queue.enqueue(1)\n",
    "queue.enqueue(2)\n",
    "queue.enqueue(3)\n",
    "\n",
    "print(queue.dequeue()) \n",
    "print(queue.dequeue()) \n",
    "\n",
    "print(queue.dequeue()) \n",
    "\n"
   ]
  },
  {
   "cell_type": "markdown",
   "id": "4a33cc03",
   "metadata": {},
   "source": [
    "Задача 5 "
   ]
  }
 ],
 "metadata": {
  "kernelspec": {
   "display_name": "Python 3 (ipykernel)",
   "language": "python",
   "name": "python3"
  },
  "language_info": {
   "codemirror_mode": {
    "name": "ipython",
    "version": 3
   },
   "file_extension": ".py",
   "mimetype": "text/x-python",
   "name": "python",
   "nbconvert_exporter": "python",
   "pygments_lexer": "ipython3",
   "version": "3.11.5"
  }
 },
 "nbformat": 4,
 "nbformat_minor": 5
}
