{
 "cells": [
  {
   "cell_type": "markdown",
   "id": "b96988fe",
   "metadata": {},
   "source": [
    "1) Создать скрипт для анализа тестовых файлов - сбора статистики упоминания слов. Аргументом командной строки является имя файла, который нужно проанализировать. Второй аргумент - количество слов, которые нужно выводить на экран (если аргумент не указан, то выводим статистику по 100 словам, статистика выводится в порядке убывания частоты слов, по каждому слову на экран выводится строка в формате \"<слово> <частота>\"). Если второй аргумент не целое число, то его рассматриваем как имя файла, в который в формате CSV с заголовком сохраняем статистику слов (Первый столбец - слово, второй столбце - частота)."
   ]
  },
  {
   "cell_type": "code",
   "execution_count": 29,
   "id": "5c9c536a",
   "metadata": {},
   "outputs": [
    {
     "data": {
      "text/plain": [
       "'\\nimport string\\n\\n\\ndef extract_words(text):\\n    text = text.lower()\\n    text = text.translate(str.maketrans(\\'\\', \\'\\', string.punctuation))\\n\\n    words = text.split()\\n    return words\\n\\n\\ndef word_count(filename, num_words=100):\\n    with open(filename, \\'r\\', encoding=\\'utf-8\\') as file:\\n        text = file.read()\\n        words = extract_words(text)\\n\\n        word_count = {}\\n        for word in words:\\n            if word in word_count:\\n                word_count[word] += 1\\n            else:\\n                word_count[word] = 1\\n\\n        sorted_word_count = sorted(word_count.items(), key=lambda item: item[1], reverse=True)\\n\\n        if isinstance(num_words, int):\\n            for word, count in sorted_word_count[:num_words]:\\n                print(f\"{word} {count}\")\\n        else:\\n            with open(num_words, \\'w\\', encoding=\\'utf-8\\') as csvfile:\\n                csvfile.write(\\'Word,Frequency\\n\\')\\n                for word, count in sorted_word_count:\\n                    csvfile.write(f\"{word},{count}\\n\")\\n\\n\\nif __name__ == \"__main__\":\\n    s = input()\\n    filename = s.split()[0]\\n    num_words = 100\\n    if len(s.split()) == 2:\\n        try:\\n            num_words = int(s.split()[1])\\n        except ValueError:\\n            num_words = s.split()[1]\\n    word_count(filename, num_words)\\n'"
      ]
     },
     "execution_count": 29,
     "metadata": {},
     "output_type": "execute_result"
    }
   ],
   "source": [
    "'''\n",
    "import string\n",
    "\n",
    "\n",
    "def extract_words(text):\n",
    "    text = text.lower()\n",
    "    text = text.translate(str.maketrans('', '', string.punctuation))\n",
    "\n",
    "    words = text.split()\n",
    "    return words\n",
    "\n",
    "\n",
    "def word_count(filename, num_words=100):\n",
    "    with open(filename, 'r', encoding='utf-8') as file:\n",
    "        text = file.read()\n",
    "        words = extract_words(text)\n",
    "\n",
    "        word_count = {}\n",
    "        for word in words:\n",
    "            if word in word_count:\n",
    "                word_count[word] += 1\n",
    "            else:\n",
    "                word_count[word] = 1\n",
    "\n",
    "        sorted_word_count = sorted(word_count.items(), key=lambda item: item[1], reverse=True)\n",
    "\n",
    "        if isinstance(num_words, int):\n",
    "            for word, count in sorted_word_count[:num_words]:\n",
    "                print(f\"{word} {count}\")\n",
    "        else:\n",
    "            with open(num_words, 'w', encoding='utf-8') as csvfile:\n",
    "                csvfile.write('Word,Frequency\\n')\n",
    "                for word, count in sorted_word_count:\n",
    "                    csvfile.write(f\"{word},{count}\\n\")\n",
    "\n",
    "\n",
    "if __name__ == \"__main__\":\n",
    "    s = input()\n",
    "    filename = s.split()[0]\n",
    "    num_words = 100\n",
    "    if len(s.split()) == 2:\n",
    "        try:\n",
    "            num_words = int(s.split()[1])\n",
    "        except ValueError:\n",
    "            num_words = s.split()[1]\n",
    "    word_count(filename, num_words)\n",
    "'''"
   ]
  },
  {
   "cell_type": "markdown",
   "id": "0ebbd085",
   "metadata": {},
   "source": [
    "2) Создать скрипт, которому в командной строке передаются имена файлов. В файлах в формате CSV с заголовком содержится информация о частоте слов: первый столбец - слово, второй столбце - частота. Выполнить агрегацию информации о частоте слов из всех переданных файлов (т.е. рассчитать суммарную частоту для всех упомянутых слов). Результат сохранить в файл с именем, которое введет пользователь в ответ на соответствующий запрос.\n",
    "2.1) Скрипт должен адекватно реагировать на ситуацию отсутствия файлов и другие проблемы с вводом/выводом.\n",
    "2.2) Оформить модуль с функциями, которые используются в задании 1 и 2.\n"
   ]
  },
  {
   "cell_type": "code",
   "execution_count": null,
   "id": "82d27553",
   "metadata": {},
   "outputs": [],
   "source": []
  },
  {
   "cell_type": "markdown",
   "id": "89bad833",
   "metadata": {},
   "source": [
    "3.1) Написать программу, которая запускается из консоли и считает сумму переданных в неё чисел\n",
    "3.2) Добавить в эту программу произведение\n",
    "3.3) По переданному параметру считать либо сумму, либо произведение\n",
    "3.4) Оформить это дополнительный модуль.\n"
   ]
  },
  {
   "cell_type": "code",
   "execution_count": 31,
   "id": "ce941fbd",
   "metadata": {},
   "outputs": [
    {
     "name": "stdout",
     "output_type": "stream",
     "text": [
      "sum 1 2 3\n",
      "Sum: 6\n"
     ]
    }
   ],
   "source": [
    "from module import calculate_sum, calculate_product\n",
    "if __name__ == \"__main__\":\n",
    "    s = input()\n",
    "    operation = s.split()[0].lower()\n",
    "    numbers = [int(num) for num in s.split()[1:]]\n",
    "    \n",
    "    if operation == 'sum':\n",
    "        result = calculate_sum(numbers)\n",
    "        print(f\"Sum: {result}\")\n",
    "    elif operation == 'product':\n",
    "        result = calculate_product(numbers)\n",
    "        print(f\"Product: {result}\")\n",
    "    else:\n",
    "        print(\"Invalid operation. Please use 'sum' or 'product'.\")"
   ]
  },
  {
   "cell_type": "code",
   "execution_count": null,
   "id": "ff974132",
   "metadata": {},
   "outputs": [],
   "source": []
  }
 ],
 "metadata": {
  "kernelspec": {
   "display_name": "Python 3 (ipykernel)",
   "language": "python",
   "name": "python3"
  },
  "language_info": {
   "codemirror_mode": {
    "name": "ipython",
    "version": 3
   },
   "file_extension": ".py",
   "mimetype": "text/x-python",
   "name": "python",
   "nbconvert_exporter": "python",
   "pygments_lexer": "ipython3",
   "version": "3.11.5"
  }
 },
 "nbformat": 4,
 "nbformat_minor": 5
}
