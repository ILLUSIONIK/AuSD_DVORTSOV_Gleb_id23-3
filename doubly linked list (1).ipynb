{
 "cells": [
  {
   "cell_type": "markdown",
   "id": "b4082b05",
   "metadata": {},
   "source": [
    "Создайте двусвязный список для хранения информации о заказах в интернетмагазине. Каждый элемент списка должен содержать номер заказа, дату создания, список товаров, их количество и стоимость, а также информацию о доставке и оплате."
   ]
  },
  {
   "cell_type": "code",
   "execution_count": 10,
   "id": "6fb31297",
   "metadata": {},
   "outputs": [
    {
     "name": "stdout",
     "output_type": "stream",
     "text": [
      "Номер заказа: ORD001\n",
      "Дата создания: 2024-05-14\n",
      "Продукты:\n",
      "- Продукт A (Качество: 2, Цена: 10)\n",
      "- Продукт B (Качество: 1, Цена: 20)\n",
      "Информация о доставке: Адресс 1\n",
      "Платежная информация: Credit Card\n",
      "\n",
      "Номер заказа: ORD002\n",
      "Дата создания: 2024-05-15\n",
      "Продукты:\n",
      "- Продукт C (Качество: 3, Цена: 15)\n",
      "- Продукт D (Качество: 2, Цена: 25)\n",
      "Информация о доставке: Адресс 2\n",
      "Платежная информация: PayPal\n",
      "\n"
     ]
    }
   ],
   "source": [
    "class Order:\n",
    "    def __init__(self, order_number, creation_date, products, delivery_info, payment_info):\n",
    "        self.order_number = order_number\n",
    "        self.creation_date = creation_date\n",
    "        self.products = products\n",
    "        self.delivery_info = delivery_info\n",
    "        self.payment_info = payment_info\n",
    "        self.prev = None\n",
    "        self.next = None\n",
    "\n",
    "class DoublyLinkedList:\n",
    "    def __init__(self):\n",
    "        self.head = None\n",
    "        self.tail = None\n",
    "\n",
    "    def add_order(self, order_number, creation_date, products, delivery_info, payment_info):\n",
    "        new_order = Order(order_number, creation_date, products, delivery_info, payment_info)\n",
    "        if self.head is None:\n",
    "            self.head = new_order\n",
    "            self.tail = new_order\n",
    "        else:\n",
    "            new_order.prev = self.tail\n",
    "            self.tail.next = new_order\n",
    "            self.tail = new_order\n",
    "\n",
    "    def display_orders(self):\n",
    "        current_order = self.head\n",
    "        while current_order:\n",
    "            print(\"Номер заказа:\", current_order.order_number)\n",
    "            print(\"Дата создания:\", current_order.creation_date)\n",
    "            print(\"Продукты:\")\n",
    "            for product, quantity, cost in current_order.products:\n",
    "                print(\"- {} (Качество: {}, Цена: {})\".format(product, quantity, cost))\n",
    "            print(\"Информация о доставке:\", current_order.delivery_info)\n",
    "            print(\"Платежная информация:\", current_order.payment_info)\n",
    "            print()\n",
    "            current_order = current_order.next\n",
    "\n",
    "# Пример использования\n",
    "orders_list = DoublyLinkedList()\n",
    "\n",
    "# Добавление заказов\n",
    "orders_list.add_order(\"ORD001\", \"2024-05-14\", [(\"Продукт A\", 2, 10), (\"Продукт B\", 1, 20)], \"Адресс 1\", \"Credit Card\")\n",
    "orders_list.add_order(\"ORD002\", \"2024-05-15\", [(\"Продукт C\", 3, 15), (\"Продукт D\", 2, 25)], \"Адресс 2\", \"PayPal\")\n",
    "\n",
    "# Отображение заказов\n",
    "orders_list.display_orders()\n"
   ]
  },
  {
   "cell_type": "markdown",
   "id": "2da7f81c",
   "metadata": {},
   "source": [
    "Реализовать функцию, которая разделяет двусвязный список на два списка, один из которых содержит все элементы, меньшие заданного значения, а другой — все элементы, большие или равные заданному значению.\n"
   ]
  },
  {
   "cell_type": "code",
   "execution_count": 12,
   "id": "6ba10c36",
   "metadata": {},
   "outputs": [
    {
     "name": "stdout",
     "output_type": "stream",
     "text": [
      "Список элементов меньше 5:\n",
      "3 1 \n",
      "Список элементов больше или равных 5:\n",
      "8 5 10 7 9 "
     ]
    }
   ],
   "source": [
    "class Node:\n",
    "    def __init__(self, data):\n",
    "        self.data = data\n",
    "        self.prev = None\n",
    "        self.next = None\n",
    "\n",
    "class DoublyLinkedList:\n",
    "    def __init__(self):\n",
    "        self.head = None\n",
    "        self.tail = None\n",
    "\n",
    "    def add_node(self, data):\n",
    "        new_node = Node(data)\n",
    "        if not self.head:\n",
    "            self.head = new_node\n",
    "            self.tail = new_node\n",
    "        else:\n",
    "            new_node.prev = self.tail\n",
    "            self.tail.next = new_node\n",
    "            self.tail = new_node\n",
    "\n",
    "def split_list(doubly_linked_list, value):\n",
    "    less_than_list = DoublyLinkedList()\n",
    "    greater_equal_list = DoublyLinkedList()\n",
    "\n",
    "    current_node = doubly_linked_list.head\n",
    "    while current_node:\n",
    "        if current_node.data < value:\n",
    "            less_than_list.add_node(current_node.data)\n",
    "        else:\n",
    "            greater_equal_list.add_node(current_node.data)\n",
    "        current_node = current_node.next\n",
    "\n",
    "    return less_than_list, greater_equal_list\n",
    "\n",
    "# Создание и заполнение списка\n",
    "doubly_linked_list = DoublyLinkedList()\n",
    "data = [8, 3, 5, 10, 1, 7, 9]\n",
    "for item in data:\n",
    "    doubly_linked_list.add_node(item)\n",
    "\n",
    "# Разделение списка\n",
    "less_than_list, greater_equal_list = split_list(doubly_linked_list, 5)\n",
    "\n",
    "# Вывод результатов\n",
    "print(\"Список элементов меньше 5:\")\n",
    "current_node = less_than_list.head\n",
    "while current_node:\n",
    "    print(current_node.data, end=\" \")\n",
    "    current_node = current_node.next\n",
    "\n",
    "print(\"\\nСписок элементов больше или равных 5:\")\n",
    "current_node = greater_equal_list.head\n",
    "while current_node:\n",
    "    print(current_node.data, end=\" \")\n",
    "    current_node = current_node.next\n"
   ]
  },
  {
   "cell_type": "markdown",
   "id": "ea99bb0c",
   "metadata": {},
   "source": [
    "Реализовать функцию, которая проверяет, содержится ли заданный элемент в циклическом двусвязном списке."
   ]
  },
  {
   "cell_type": "code",
   "execution_count": 15,
   "id": "8732b811",
   "metadata": {},
   "outputs": [
    {
     "name": "stdout",
     "output_type": "stream",
     "text": [
      "Проверка наличия элементов:\n",
      "Элемент 5 в списке? True\n",
      "Элемент 20 в списке? False\n"
     ]
    }
   ],
   "source": [
    "class Node:\n",
    "    def __init__(self, data):\n",
    "        self.data = data\n",
    "        self.prev = None\n",
    "        self.next = None\n",
    "\n",
    "class DoublyLinkedList:\n",
    "    def __init__(self):\n",
    "        self.head = None\n",
    "        self.tail = None\n",
    "\n",
    "    def add_node(self, data):\n",
    "        new_node = Node(data)\n",
    "        if not self.head:\n",
    "            self.head = new_node\n",
    "            self.tail = new_node\n",
    "        else:\n",
    "            new_node.prev = self.tail\n",
    "            self.tail.next = new_node\n",
    "            self.tail = new_node\n",
    "\n",
    "    def is_element_in_list(self, element):\n",
    "        if not self.head:\n",
    "            return False\n",
    "        current_node = self.head\n",
    "        while True:\n",
    "            if current_node.data == element:\n",
    "                return True\n",
    "            current_node = current_node.next\n",
    "            if current_node == self.head:\n",
    "                break\n",
    "            # Добавлено условие проверки на возвращение к началу списка\n",
    "            if current_node == self.tail:\n",
    "                break\n",
    "        return False\n",
    "\n",
    "\n",
    "# Пример использования\n",
    "doubly_linked_list = DoublyLinkedList()\n",
    "data = [8, 3, 5, 10, 1, 7, 9]\n",
    "for item in data:\n",
    "    doubly_linked_list.add_node(item)\n",
    "\n",
    "# Проверка наличия элементов\n",
    "print(\"Проверка наличия элементов:\")\n",
    "print(\"Элемент 5 в списке?\", doubly_linked_list.is_element_in_list(5))\n",
    "print(\"Элемент 20 в списке?\", doubly_linked_list.is_element_in_list(20))\n"
   ]
  },
  {
   "cell_type": "code",
   "execution_count": null,
   "id": "b6232e3b",
   "metadata": {},
   "outputs": [],
   "source": []
  }
 ],
 "metadata": {
  "kernelspec": {
   "display_name": "Python 3 (ipykernel)",
   "language": "python",
   "name": "python3"
  },
  "language_info": {
   "codemirror_mode": {
    "name": "ipython",
    "version": 3
   },
   "file_extension": ".py",
   "mimetype": "text/x-python",
   "name": "python",
   "nbconvert_exporter": "python",
   "pygments_lexer": "ipython3",
   "version": "3.11.5"
  }
 },
 "nbformat": 4,
 "nbformat_minor": 5
}
